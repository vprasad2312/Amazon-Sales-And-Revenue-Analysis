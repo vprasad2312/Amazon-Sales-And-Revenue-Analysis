{
 "cells": [
  {
   "cell_type": "code",
   "execution_count": 1,
   "id": "0fe70fa4",
   "metadata": {},
   "outputs": [],
   "source": [
    "# Function to read and merge all csv files in a folder\n",
    "\n",
    "def csvfilesReadMerge(folder_path,new_file_name):\n",
    "    \"\"\"\n",
    "    Docstring : This functions takes multiple csv files having same schema and combine them \n",
    "    to form a single large file.\n",
    "    Parameters \n",
    "    folder_path   : str enclosed in double inverted commas (\"\")\n",
    "    Absolute path of folder where files are located.\n",
    "    new_file_name : str enclosed in double inverted commas (\"\")\n",
    "    Name of file which will be formed after combining all files. \n",
    "    \"\"\"\n",
    "    import pandas as pd\n",
    "    import os\n",
    "    import glob\n",
    "    \n",
    "    files = os.path.join(folder_path , \"*csv\")\n",
    "    list_of_files = glob.glob(files)     # This will give list of files with their absolute path\n",
    "    \n",
    "    df = pd.concat(map(pd.read_csv , list_of_files) , ignore_index=True) # read_csv files and concat them\n",
    "    df.to_csv(new_file_name,index=False) # save files to store them as single csv file\n",
    "    print(f\"Successfully created the file '{new_file_name}' at location :\\n{os.getcwd()}\")"
   ]
  },
  {
   "cell_type": "code",
   "execution_count": 2,
   "id": "dba37d69",
   "metadata": {},
   "outputs": [
    {
     "name": "stdout",
     "output_type": "stream",
     "text": [
      "Successfully created the file 'AllYearSales.csv' at location :\n",
      "D:\\ML Course Content\\Full Stack Data Science Videos\\Data Analysis\\Data Analyst Projects\\Business Analytics\\Final Files\n"
     ]
    }
   ],
   "source": [
    "csvfilesReadMerge(\"D:/ML Course Content/Full Stack Data Science Videos/Data Analysis/Data Analyst Projects/Business Analytics/amazon sales raw data\",\"AllYearSales.csv\")"
   ]
  },
  {
   "cell_type": "code",
   "execution_count": 3,
   "id": "e73b9a3b",
   "metadata": {},
   "outputs": [
    {
     "data": {
      "text/html": [
       "<div>\n",
       "<style scoped>\n",
       "    .dataframe tbody tr th:only-of-type {\n",
       "        vertical-align: middle;\n",
       "    }\n",
       "\n",
       "    .dataframe tbody tr th {\n",
       "        vertical-align: top;\n",
       "    }\n",
       "\n",
       "    .dataframe thead th {\n",
       "        text-align: right;\n",
       "    }\n",
       "</style>\n",
       "<table border=\"1\" class=\"dataframe\">\n",
       "  <thead>\n",
       "    <tr style=\"text-align: right;\">\n",
       "      <th></th>\n",
       "      <th>Order ID</th>\n",
       "      <th>Product</th>\n",
       "      <th>Quantity Ordered</th>\n",
       "      <th>Price Each</th>\n",
       "      <th>Order Date</th>\n",
       "      <th>Purchase Address</th>\n",
       "    </tr>\n",
       "  </thead>\n",
       "  <tbody>\n",
       "    <tr>\n",
       "      <th>0</th>\n",
       "      <td>176558</td>\n",
       "      <td>USB-C Charging Cable</td>\n",
       "      <td>2</td>\n",
       "      <td>11.95</td>\n",
       "      <td>04/19/19 08:46</td>\n",
       "      <td>917 1st St, Dallas, TX 75001</td>\n",
       "    </tr>\n",
       "    <tr>\n",
       "      <th>1</th>\n",
       "      <td>NaN</td>\n",
       "      <td>NaN</td>\n",
       "      <td>NaN</td>\n",
       "      <td>NaN</td>\n",
       "      <td>NaN</td>\n",
       "      <td>NaN</td>\n",
       "    </tr>\n",
       "    <tr>\n",
       "      <th>2</th>\n",
       "      <td>176559</td>\n",
       "      <td>Bose SoundSport Headphones</td>\n",
       "      <td>1</td>\n",
       "      <td>99.99</td>\n",
       "      <td>04/07/19 22:30</td>\n",
       "      <td>682 Chestnut St, Boston, MA 02215</td>\n",
       "    </tr>\n",
       "    <tr>\n",
       "      <th>3</th>\n",
       "      <td>176560</td>\n",
       "      <td>Google Phone</td>\n",
       "      <td>1</td>\n",
       "      <td>600</td>\n",
       "      <td>04/12/19 14:38</td>\n",
       "      <td>669 Spruce St, Los Angeles, CA 90001</td>\n",
       "    </tr>\n",
       "    <tr>\n",
       "      <th>4</th>\n",
       "      <td>176560</td>\n",
       "      <td>Wired Headphones</td>\n",
       "      <td>1</td>\n",
       "      <td>11.99</td>\n",
       "      <td>04/12/19 14:38</td>\n",
       "      <td>669 Spruce St, Los Angeles, CA 90001</td>\n",
       "    </tr>\n",
       "    <tr>\n",
       "      <th>...</th>\n",
       "      <td>...</td>\n",
       "      <td>...</td>\n",
       "      <td>...</td>\n",
       "      <td>...</td>\n",
       "      <td>...</td>\n",
       "      <td>...</td>\n",
       "    </tr>\n",
       "    <tr>\n",
       "      <th>186845</th>\n",
       "      <td>259353</td>\n",
       "      <td>AAA Batteries (4-pack)</td>\n",
       "      <td>3</td>\n",
       "      <td>2.99</td>\n",
       "      <td>09/17/19 20:56</td>\n",
       "      <td>840 Highland St, Los Angeles, CA 90001</td>\n",
       "    </tr>\n",
       "    <tr>\n",
       "      <th>186846</th>\n",
       "      <td>259354</td>\n",
       "      <td>iPhone</td>\n",
       "      <td>1</td>\n",
       "      <td>700</td>\n",
       "      <td>09/01/19 16:00</td>\n",
       "      <td>216 Dogwood St, San Francisco, CA 94016</td>\n",
       "    </tr>\n",
       "    <tr>\n",
       "      <th>186847</th>\n",
       "      <td>259355</td>\n",
       "      <td>iPhone</td>\n",
       "      <td>1</td>\n",
       "      <td>700</td>\n",
       "      <td>09/23/19 07:39</td>\n",
       "      <td>220 12th St, San Francisco, CA 94016</td>\n",
       "    </tr>\n",
       "    <tr>\n",
       "      <th>186848</th>\n",
       "      <td>259356</td>\n",
       "      <td>34in Ultrawide Monitor</td>\n",
       "      <td>1</td>\n",
       "      <td>379.99</td>\n",
       "      <td>09/19/19 17:30</td>\n",
       "      <td>511 Forest St, San Francisco, CA 94016</td>\n",
       "    </tr>\n",
       "    <tr>\n",
       "      <th>186849</th>\n",
       "      <td>259357</td>\n",
       "      <td>USB-C Charging Cable</td>\n",
       "      <td>1</td>\n",
       "      <td>11.95</td>\n",
       "      <td>09/30/19 00:18</td>\n",
       "      <td>250 Meadow St, San Francisco, CA 94016</td>\n",
       "    </tr>\n",
       "  </tbody>\n",
       "</table>\n",
       "<p>186850 rows × 6 columns</p>\n",
       "</div>"
      ],
      "text/plain": [
       "       Order ID                     Product Quantity Ordered Price Each  \\\n",
       "0        176558        USB-C Charging Cable                2      11.95   \n",
       "1           NaN                         NaN              NaN        NaN   \n",
       "2        176559  Bose SoundSport Headphones                1      99.99   \n",
       "3        176560                Google Phone                1        600   \n",
       "4        176560            Wired Headphones                1      11.99   \n",
       "...         ...                         ...              ...        ...   \n",
       "186845   259353      AAA Batteries (4-pack)                3       2.99   \n",
       "186846   259354                      iPhone                1        700   \n",
       "186847   259355                      iPhone                1        700   \n",
       "186848   259356      34in Ultrawide Monitor                1     379.99   \n",
       "186849   259357        USB-C Charging Cable                1      11.95   \n",
       "\n",
       "            Order Date                         Purchase Address  \n",
       "0       04/19/19 08:46             917 1st St, Dallas, TX 75001  \n",
       "1                  NaN                                      NaN  \n",
       "2       04/07/19 22:30        682 Chestnut St, Boston, MA 02215  \n",
       "3       04/12/19 14:38     669 Spruce St, Los Angeles, CA 90001  \n",
       "4       04/12/19 14:38     669 Spruce St, Los Angeles, CA 90001  \n",
       "...                ...                                      ...  \n",
       "186845  09/17/19 20:56   840 Highland St, Los Angeles, CA 90001  \n",
       "186846  09/01/19 16:00  216 Dogwood St, San Francisco, CA 94016  \n",
       "186847  09/23/19 07:39     220 12th St, San Francisco, CA 94016  \n",
       "186848  09/19/19 17:30   511 Forest St, San Francisco, CA 94016  \n",
       "186849  09/30/19 00:18   250 Meadow St, San Francisco, CA 94016  \n",
       "\n",
       "[186850 rows x 6 columns]"
      ]
     },
     "execution_count": 3,
     "metadata": {},
     "output_type": "execute_result"
    }
   ],
   "source": [
    "import pandas as pd\n",
    "df=pd.read_csv(\"allyearsales.csv\")\n",
    "df"
   ]
  },
  {
   "cell_type": "code",
   "execution_count": 4,
   "id": "32c2a4da",
   "metadata": {},
   "outputs": [
    {
     "name": "stdout",
     "output_type": "stream",
     "text": [
      "Shape of data : (186850, 6)\n",
      "--------------------------------------------------\n",
      "<class 'pandas.core.frame.DataFrame'>\n",
      "RangeIndex: 186850 entries, 0 to 186849\n",
      "Data columns (total 6 columns):\n",
      " #   Column            Non-Null Count   Dtype \n",
      "---  ------            --------------   ----- \n",
      " 0   Order ID          186305 non-null  object\n",
      " 1   Product           186305 non-null  object\n",
      " 2   Quantity Ordered  186305 non-null  object\n",
      " 3   Price Each        186305 non-null  object\n",
      " 4   Order Date        186305 non-null  object\n",
      " 5   Purchase Address  186305 non-null  object\n",
      "dtypes: object(6)\n",
      "memory usage: 8.6+ MB\n",
      "None\n",
      "--------------------------------------------------\n",
      "Count of null values in columns :\n",
      "Order ID            545\n",
      "Product             545\n",
      "Quantity Ordered    545\n",
      "Price Each          545\n",
      "Order Date          545\n",
      "Purchase Address    545\n",
      "dtype: int64 \n",
      "--------------------------------------------------\n"
     ]
    }
   ],
   "source": [
    "# function to perform basic eda operations like null value count, datatype of columns ,shape of data\n",
    "def basic_eda(pandas_dataframe_object):\n",
    "    \"\"\"\n",
    "    Docstring : This function gives basic info about the dataframe.\n",
    "    Information returned by the Function are : \n",
    "    Shape, (ColumnName, Non-Null Count, Dtype) using info() function and Null Values in the dataset using isna().sum()\n",
    "    Parameters \n",
    "    pandas_dataframe_object : Variable\n",
    "    Object of pandas dataframe in which dataset is loaded.\n",
    "    \"\"\"\n",
    "    print(f\"Shape of data : {pandas_dataframe_object.shape}\\n{'-'*50}\") \n",
    "    print(f\"{pandas_dataframe_object.info()}\\n{'-'*50}\")\n",
    "    print(f\"Count of null values in columns :\\n{pandas_dataframe_object.isna().sum()} \\n{'-'*50}\")\n",
    "basic_eda(df)   "
   ]
  },
  {
   "cell_type": "code",
   "execution_count": 5,
   "id": "9dad89ab",
   "metadata": {},
   "outputs": [],
   "source": [
    "# In the dataframe there are some rows which are completely null so dropping them\n",
    "Final_data = df.dropna()"
   ]
  },
  {
   "cell_type": "code",
   "execution_count": 6,
   "id": "efba1910",
   "metadata": {},
   "outputs": [
    {
     "name": "stdout",
     "output_type": "stream",
     "text": [
      "Shape of data : (186305, 6)\n",
      "--------------------------------------------------\n",
      "<class 'pandas.core.frame.DataFrame'>\n",
      "Int64Index: 186305 entries, 0 to 186849\n",
      "Data columns (total 6 columns):\n",
      " #   Column            Non-Null Count   Dtype \n",
      "---  ------            --------------   ----- \n",
      " 0   Order ID          186305 non-null  object\n",
      " 1   Product           186305 non-null  object\n",
      " 2   Quantity Ordered  186305 non-null  object\n",
      " 3   Price Each        186305 non-null  object\n",
      " 4   Order Date        186305 non-null  object\n",
      " 5   Purchase Address  186305 non-null  object\n",
      "dtypes: object(6)\n",
      "memory usage: 9.9+ MB\n",
      "None\n",
      "--------------------------------------------------\n",
      "Count of null values in columns :\n",
      "Order ID            0\n",
      "Product             0\n",
      "Quantity Ordered    0\n",
      "Price Each          0\n",
      "Order Date          0\n",
      "Purchase Address    0\n",
      "dtype: int64 \n",
      "--------------------------------------------------\n"
     ]
    }
   ],
   "source": [
    "basic_eda(Final_data)"
   ]
  },
  {
   "cell_type": "code",
   "execution_count": 7,
   "id": "e5643f58",
   "metadata": {},
   "outputs": [
    {
     "name": "stderr",
     "output_type": "stream",
     "text": [
      "C:\\Users\\Amit Sangwan\\anaconda3\\envs\\ML Projects\\lib\\site-packages\\pandas\\core\\frame.py:3641: SettingWithCopyWarning: \n",
      "A value is trying to be set on a copy of a slice from a DataFrame.\n",
      "Try using .loc[row_indexer,col_indexer] = value instead\n",
      "\n",
      "See the caveats in the documentation: https://pandas.pydata.org/pandas-docs/stable/user_guide/indexing.html#returning-a-view-versus-a-copy\n",
      "  self[k1] = value[k2]\n"
     ]
    }
   ],
   "source": [
    "# For Analysis we need City and State columns\n",
    "Final_data[[ 'City', 'State']] = Final_data['Purchase Address'].str.split(',', expand=True).loc[:,1:]"
   ]
  },
  {
   "cell_type": "code",
   "execution_count": 8,
   "id": "e9038cb8",
   "metadata": {},
   "outputs": [],
   "source": [
    "# Dropping Purchase Address from Dataframe as we have extracted City and State Columns\n",
    "Final_data = Final_data.drop('Purchase Address' , axis =1)"
   ]
  },
  {
   "cell_type": "code",
   "execution_count": 9,
   "id": "51173d88",
   "metadata": {},
   "outputs": [
    {
     "data": {
      "text/html": [
       "<div>\n",
       "<style scoped>\n",
       "    .dataframe tbody tr th:only-of-type {\n",
       "        vertical-align: middle;\n",
       "    }\n",
       "\n",
       "    .dataframe tbody tr th {\n",
       "        vertical-align: top;\n",
       "    }\n",
       "\n",
       "    .dataframe thead th {\n",
       "        text-align: right;\n",
       "    }\n",
       "</style>\n",
       "<table border=\"1\" class=\"dataframe\">\n",
       "  <thead>\n",
       "    <tr style=\"text-align: right;\">\n",
       "      <th></th>\n",
       "      <th>Order ID</th>\n",
       "      <th>Product</th>\n",
       "      <th>Quantity Ordered</th>\n",
       "      <th>Price Each</th>\n",
       "      <th>Order Date</th>\n",
       "      <th>City</th>\n",
       "      <th>State</th>\n",
       "    </tr>\n",
       "  </thead>\n",
       "  <tbody>\n",
       "    <tr>\n",
       "      <th>0</th>\n",
       "      <td>176558</td>\n",
       "      <td>USB-C Charging Cable</td>\n",
       "      <td>2</td>\n",
       "      <td>11.95</td>\n",
       "      <td>04/19/19 08:46</td>\n",
       "      <td>Dallas</td>\n",
       "      <td>TX 75001</td>\n",
       "    </tr>\n",
       "    <tr>\n",
       "      <th>2</th>\n",
       "      <td>176559</td>\n",
       "      <td>Bose SoundSport Headphones</td>\n",
       "      <td>1</td>\n",
       "      <td>99.99</td>\n",
       "      <td>04/07/19 22:30</td>\n",
       "      <td>Boston</td>\n",
       "      <td>MA 02215</td>\n",
       "    </tr>\n",
       "    <tr>\n",
       "      <th>3</th>\n",
       "      <td>176560</td>\n",
       "      <td>Google Phone</td>\n",
       "      <td>1</td>\n",
       "      <td>600</td>\n",
       "      <td>04/12/19 14:38</td>\n",
       "      <td>Los Angeles</td>\n",
       "      <td>CA 90001</td>\n",
       "    </tr>\n",
       "    <tr>\n",
       "      <th>4</th>\n",
       "      <td>176560</td>\n",
       "      <td>Wired Headphones</td>\n",
       "      <td>1</td>\n",
       "      <td>11.99</td>\n",
       "      <td>04/12/19 14:38</td>\n",
       "      <td>Los Angeles</td>\n",
       "      <td>CA 90001</td>\n",
       "    </tr>\n",
       "    <tr>\n",
       "      <th>5</th>\n",
       "      <td>176561</td>\n",
       "      <td>Wired Headphones</td>\n",
       "      <td>1</td>\n",
       "      <td>11.99</td>\n",
       "      <td>04/30/19 09:27</td>\n",
       "      <td>Los Angeles</td>\n",
       "      <td>CA 90001</td>\n",
       "    </tr>\n",
       "  </tbody>\n",
       "</table>\n",
       "</div>"
      ],
      "text/plain": [
       "  Order ID                     Product Quantity Ordered Price Each  \\\n",
       "0   176558        USB-C Charging Cable                2      11.95   \n",
       "2   176559  Bose SoundSport Headphones                1      99.99   \n",
       "3   176560                Google Phone                1        600   \n",
       "4   176560            Wired Headphones                1      11.99   \n",
       "5   176561            Wired Headphones                1      11.99   \n",
       "\n",
       "       Order Date          City      State  \n",
       "0  04/19/19 08:46        Dallas   TX 75001  \n",
       "2  04/07/19 22:30        Boston   MA 02215  \n",
       "3  04/12/19 14:38   Los Angeles   CA 90001  \n",
       "4  04/12/19 14:38   Los Angeles   CA 90001  \n",
       "5  04/30/19 09:27   Los Angeles   CA 90001  "
      ]
     },
     "execution_count": 9,
     "metadata": {},
     "output_type": "execute_result"
    }
   ],
   "source": [
    "Final_data.head()"
   ]
  },
  {
   "cell_type": "code",
   "execution_count": 10,
   "id": "c7843073",
   "metadata": {},
   "outputs": [],
   "source": [
    "# As we can see State Column contains Postal Code which is not needed for Analysis so Extracting only State name\n",
    "Final_data['State'] = Final_data['State'].str.split(\" \",expand=True).loc[:,1]"
   ]
  },
  {
   "cell_type": "code",
   "execution_count": 11,
   "id": "83bb6d89",
   "metadata": {},
   "outputs": [],
   "source": [
    "# Matching names with their Abbrevation and replacing Abbrevation in State Column with full name of state\n",
    "state_name = {\"NY\":\"New York\", \"CA\":\"California\", \"TX\":\"Texas\", \"WA\":\"Washington\", \"GA\":\"Georgia\", \"MA\":\"Massachusetts\",\n",
    "              \"OR\":\"Oregon\", \"ME\":\"Maine\"}\n",
    "Final_data['State'] = Final_data['State'].map(state_name)"
   ]
  },
  {
   "cell_type": "code",
   "execution_count": 12,
   "id": "73b34026",
   "metadata": {},
   "outputs": [
    {
     "data": {
      "text/html": [
       "<div>\n",
       "<style scoped>\n",
       "    .dataframe tbody tr th:only-of-type {\n",
       "        vertical-align: middle;\n",
       "    }\n",
       "\n",
       "    .dataframe tbody tr th {\n",
       "        vertical-align: top;\n",
       "    }\n",
       "\n",
       "    .dataframe thead th {\n",
       "        text-align: right;\n",
       "    }\n",
       "</style>\n",
       "<table border=\"1\" class=\"dataframe\">\n",
       "  <thead>\n",
       "    <tr style=\"text-align: right;\">\n",
       "      <th></th>\n",
       "      <th>Order ID</th>\n",
       "      <th>Product</th>\n",
       "      <th>Quantity Ordered</th>\n",
       "      <th>Price Each</th>\n",
       "      <th>Order Date</th>\n",
       "      <th>City</th>\n",
       "      <th>State</th>\n",
       "    </tr>\n",
       "  </thead>\n",
       "  <tbody>\n",
       "    <tr>\n",
       "      <th>0</th>\n",
       "      <td>176558</td>\n",
       "      <td>USB-C Charging Cable</td>\n",
       "      <td>2</td>\n",
       "      <td>11.95</td>\n",
       "      <td>04/19/19 08:46</td>\n",
       "      <td>Dallas</td>\n",
       "      <td>Texas</td>\n",
       "    </tr>\n",
       "    <tr>\n",
       "      <th>2</th>\n",
       "      <td>176559</td>\n",
       "      <td>Bose SoundSport Headphones</td>\n",
       "      <td>1</td>\n",
       "      <td>99.99</td>\n",
       "      <td>04/07/19 22:30</td>\n",
       "      <td>Boston</td>\n",
       "      <td>Massachusetts</td>\n",
       "    </tr>\n",
       "    <tr>\n",
       "      <th>3</th>\n",
       "      <td>176560</td>\n",
       "      <td>Google Phone</td>\n",
       "      <td>1</td>\n",
       "      <td>600</td>\n",
       "      <td>04/12/19 14:38</td>\n",
       "      <td>Los Angeles</td>\n",
       "      <td>California</td>\n",
       "    </tr>\n",
       "    <tr>\n",
       "      <th>4</th>\n",
       "      <td>176560</td>\n",
       "      <td>Wired Headphones</td>\n",
       "      <td>1</td>\n",
       "      <td>11.99</td>\n",
       "      <td>04/12/19 14:38</td>\n",
       "      <td>Los Angeles</td>\n",
       "      <td>California</td>\n",
       "    </tr>\n",
       "    <tr>\n",
       "      <th>5</th>\n",
       "      <td>176561</td>\n",
       "      <td>Wired Headphones</td>\n",
       "      <td>1</td>\n",
       "      <td>11.99</td>\n",
       "      <td>04/30/19 09:27</td>\n",
       "      <td>Los Angeles</td>\n",
       "      <td>California</td>\n",
       "    </tr>\n",
       "  </tbody>\n",
       "</table>\n",
       "</div>"
      ],
      "text/plain": [
       "  Order ID                     Product Quantity Ordered Price Each  \\\n",
       "0   176558        USB-C Charging Cable                2      11.95   \n",
       "2   176559  Bose SoundSport Headphones                1      99.99   \n",
       "3   176560                Google Phone                1        600   \n",
       "4   176560            Wired Headphones                1      11.99   \n",
       "5   176561            Wired Headphones                1      11.99   \n",
       "\n",
       "       Order Date          City          State  \n",
       "0  04/19/19 08:46        Dallas          Texas  \n",
       "2  04/07/19 22:30        Boston  Massachusetts  \n",
       "3  04/12/19 14:38   Los Angeles     California  \n",
       "4  04/12/19 14:38   Los Angeles     California  \n",
       "5  04/30/19 09:27   Los Angeles     California  "
      ]
     },
     "execution_count": 12,
     "metadata": {},
     "output_type": "execute_result"
    }
   ],
   "source": [
    "Final_data.head()"
   ]
  },
  {
   "cell_type": "code",
   "execution_count": 13,
   "id": "fda0188c",
   "metadata": {},
   "outputs": [
    {
     "name": "stdout",
     "output_type": "stream",
     "text": [
      "Shape of data : (186305, 7)\n",
      "--------------------------------------------------\n",
      "<class 'pandas.core.frame.DataFrame'>\n",
      "Int64Index: 186305 entries, 0 to 186849\n",
      "Data columns (total 7 columns):\n",
      " #   Column            Non-Null Count   Dtype \n",
      "---  ------            --------------   ----- \n",
      " 0   Order ID          186305 non-null  object\n",
      " 1   Product           186305 non-null  object\n",
      " 2   Quantity Ordered  186305 non-null  object\n",
      " 3   Price Each        186305 non-null  object\n",
      " 4   Order Date        186305 non-null  object\n",
      " 5   City              185950 non-null  object\n",
      " 6   State             185950 non-null  object\n",
      "dtypes: object(7)\n",
      "memory usage: 11.4+ MB\n",
      "None\n",
      "--------------------------------------------------\n",
      "Count of null values in columns :\n",
      "Order ID              0\n",
      "Product               0\n",
      "Quantity Ordered      0\n",
      "Price Each            0\n",
      "Order Date            0\n",
      "City                355\n",
      "State               355\n",
      "dtype: int64 \n",
      "--------------------------------------------------\n"
     ]
    }
   ],
   "source": [
    "basic_eda(Final_data)"
   ]
  },
  {
   "cell_type": "code",
   "execution_count": 14,
   "id": "45e41531",
   "metadata": {},
   "outputs": [],
   "source": [
    "# As we can see some rows in City and State Column are missing , so we have to drop those rows because they will create \n",
    "# problem in city and state wise Sales and Revenue Analysis\n",
    "Final_data.dropna(inplace=True)"
   ]
  },
  {
   "cell_type": "code",
   "execution_count": 15,
   "id": "500c2911",
   "metadata": {},
   "outputs": [],
   "source": [
    "# Datatype of OrderID ,Quantity Ordered and Price Each Column is Object which is wrong so changing it to correct dtype\n",
    "Final_data['Order ID'] = pd.to_numeric(Final_data['Order ID'])\n",
    "Final_data['Quantity Ordered'] = pd.to_numeric(Final_data['Quantity Ordered'])\n",
    "Final_data['Price Each'] = pd.to_numeric(Final_data['Price Each'])\n",
    "Final_data['Order Date'] = pd.to_datetime(Final_data['Order Date'],infer_datetime_format=True)"
   ]
  },
  {
   "cell_type": "code",
   "execution_count": 16,
   "id": "69ddc3e3",
   "metadata": {},
   "outputs": [
    {
     "name": "stdout",
     "output_type": "stream",
     "text": [
      "Shape of data : (185950, 7)\n",
      "--------------------------------------------------\n",
      "<class 'pandas.core.frame.DataFrame'>\n",
      "Int64Index: 185950 entries, 0 to 186849\n",
      "Data columns (total 7 columns):\n",
      " #   Column            Non-Null Count   Dtype         \n",
      "---  ------            --------------   -----         \n",
      " 0   Order ID          185950 non-null  int64         \n",
      " 1   Product           185950 non-null  object        \n",
      " 2   Quantity Ordered  185950 non-null  int64         \n",
      " 3   Price Each        185950 non-null  float64       \n",
      " 4   Order Date        185950 non-null  datetime64[ns]\n",
      " 5   City              185950 non-null  object        \n",
      " 6   State             185950 non-null  object        \n",
      "dtypes: datetime64[ns](1), float64(1), int64(2), object(3)\n",
      "memory usage: 11.3+ MB\n",
      "None\n",
      "--------------------------------------------------\n",
      "Count of null values in columns :\n",
      "Order ID            0\n",
      "Product             0\n",
      "Quantity Ordered    0\n",
      "Price Each          0\n",
      "Order Date          0\n",
      "City                0\n",
      "State               0\n",
      "dtype: int64 \n",
      "--------------------------------------------------\n"
     ]
    }
   ],
   "source": [
    "basic_eda(Final_data)"
   ]
  },
  {
   "cell_type": "markdown",
   "id": "6455c1e6",
   "metadata": {},
   "source": [
    "__Now we will derive Category Column from Product Column__"
   ]
  },
  {
   "cell_type": "code",
   "execution_count": 17,
   "id": "00669793",
   "metadata": {},
   "outputs": [
    {
     "data": {
      "text/plain": [
       "array(['USB-C Charging Cable', 'Bose SoundSport Headphones',\n",
       "       'Google Phone', 'Wired Headphones', 'Macbook Pro Laptop',\n",
       "       'Lightning Charging Cable', '27in 4K Gaming Monitor',\n",
       "       'AA Batteries (4-pack)', 'Apple Airpods Headphones',\n",
       "       'AAA Batteries (4-pack)', 'iPhone', 'Flatscreen TV',\n",
       "       '27in FHD Monitor', '20in Monitor', 'LG Dryer', 'ThinkPad Laptop',\n",
       "       'Vareebadd Phone', 'LG Washing Machine', '34in Ultrawide Monitor'],\n",
       "      dtype=object)"
      ]
     },
     "execution_count": 17,
     "metadata": {},
     "output_type": "execute_result"
    }
   ],
   "source": [
    "Final_data['Product'].unique()"
   ]
  },
  {
   "cell_type": "code",
   "execution_count": 18,
   "id": "30a605d9",
   "metadata": {},
   "outputs": [],
   "source": [
    "def product_category(dataframe, column_name, product_name_ends_with, category_name):\n",
    "    \"\"\"\n",
    "    Docstring : This function is created 'Category' column in dataframe.\n",
    "    Parameters  \n",
    "    dataframe : Variable\n",
    "    Object of pandas dataframe of dataset\n",
    "    column_name : str enclosed in double inverted commas (\"\")\n",
    "    Name of Column where product_name is given\n",
    "    product_name_ends_with : str enclosed in double inverted commas (\"\") \n",
    "    Name of product with which it ends which will help in identifing the product\n",
    "    category_name : str enclosed in double inverted commas (\"\")\n",
    "    Category name which will be assigned to the product, if found\n",
    "    \"\"\"\n",
    "    index_list=dataframe[dataframe[column_name].str.endswith(product_name_ends_with)==True].index\n",
    "    dataframe.loc[index_list,\"Category\"]= category_name\n",
    "    print(f\"'Category' column created Successfully for Category '{category_name}'\")"
   ]
  },
  {
   "cell_type": "code",
   "execution_count": 19,
   "id": "45a40d86",
   "metadata": {},
   "outputs": [
    {
     "name": "stdout",
     "output_type": "stream",
     "text": [
      "'Category' column created Successfully for Category 'Charging Cable'\n"
     ]
    }
   ],
   "source": [
    "product_category(Final_data, \"Product\", \"Charging Cable\", \"Charging Cable\")"
   ]
  },
  {
   "cell_type": "code",
   "execution_count": 20,
   "id": "dfb1d284",
   "metadata": {},
   "outputs": [
    {
     "name": "stdout",
     "output_type": "stream",
     "text": [
      "'Category' column created Successfully for Category 'Headphones'\n"
     ]
    }
   ],
   "source": [
    "product_category(Final_data, \"Product\", \"Headphones\", \"Headphones\")"
   ]
  },
  {
   "cell_type": "code",
   "execution_count": 21,
   "id": "d61cb331",
   "metadata": {},
   "outputs": [
    {
     "name": "stdout",
     "output_type": "stream",
     "text": [
      "'Category' column created Successfully for Category 'Phone'\n"
     ]
    }
   ],
   "source": [
    "product_category(Final_data, \"Product\", \"Phone\", \"Phone\")"
   ]
  },
  {
   "cell_type": "code",
   "execution_count": 22,
   "id": "a5111db2",
   "metadata": {},
   "outputs": [
    {
     "name": "stdout",
     "output_type": "stream",
     "text": [
      "'Category' column created Successfully for Category 'Laptop'\n"
     ]
    }
   ],
   "source": [
    "product_category(Final_data, \"Product\", \"Laptop\", \"Laptop\")"
   ]
  },
  {
   "cell_type": "code",
   "execution_count": 23,
   "id": "8304e238",
   "metadata": {},
   "outputs": [
    {
     "name": "stdout",
     "output_type": "stream",
     "text": [
      "'Category' column created Successfully for Category 'Monitor'\n"
     ]
    }
   ],
   "source": [
    "product_category(Final_data, \"Product\", \"Monitor\", \"Monitor\")"
   ]
  },
  {
   "cell_type": "code",
   "execution_count": 24,
   "id": "d9d544a4",
   "metadata": {},
   "outputs": [
    {
     "name": "stdout",
     "output_type": "stream",
     "text": [
      "'Category' column created Successfully for Category 'Batteries'\n"
     ]
    }
   ],
   "source": [
    "product_category(Final_data, \"Product\", \"Batteries (4-pack)\", \"Batteries\")"
   ]
  },
  {
   "cell_type": "code",
   "execution_count": 25,
   "id": "96efaf2b",
   "metadata": {},
   "outputs": [
    {
     "name": "stdout",
     "output_type": "stream",
     "text": [
      "'Category' column created Successfully for Category 'TV'\n"
     ]
    }
   ],
   "source": [
    "product_category(Final_data, \"Product\", \"TV\", \"TV\")"
   ]
  },
  {
   "cell_type": "code",
   "execution_count": 26,
   "id": "0ce5b5d9",
   "metadata": {},
   "outputs": [
    {
     "name": "stdout",
     "output_type": "stream",
     "text": [
      "'Category' column created Successfully for Category 'Dryer'\n"
     ]
    }
   ],
   "source": [
    "product_category(Final_data, \"Product\", \"Dryer\", \"Dryer\")"
   ]
  },
  {
   "cell_type": "code",
   "execution_count": 27,
   "id": "fe0326c7",
   "metadata": {},
   "outputs": [
    {
     "name": "stdout",
     "output_type": "stream",
     "text": [
      "'Category' column created Successfully for Category 'Washing Machine'\n"
     ]
    }
   ],
   "source": [
    "product_category(Final_data, \"Product\", \"Washing Machine\", \"Washing Machine\")"
   ]
  },
  {
   "cell_type": "code",
   "execution_count": 28,
   "id": "8107528b",
   "metadata": {},
   "outputs": [
    {
     "data": {
      "text/html": [
       "<div>\n",
       "<style scoped>\n",
       "    .dataframe tbody tr th:only-of-type {\n",
       "        vertical-align: middle;\n",
       "    }\n",
       "\n",
       "    .dataframe tbody tr th {\n",
       "        vertical-align: top;\n",
       "    }\n",
       "\n",
       "    .dataframe thead th {\n",
       "        text-align: right;\n",
       "    }\n",
       "</style>\n",
       "<table border=\"1\" class=\"dataframe\">\n",
       "  <thead>\n",
       "    <tr style=\"text-align: right;\">\n",
       "      <th></th>\n",
       "      <th>Order ID</th>\n",
       "      <th>Product</th>\n",
       "      <th>Quantity Ordered</th>\n",
       "      <th>Price Each</th>\n",
       "      <th>Order Date</th>\n",
       "      <th>City</th>\n",
       "      <th>State</th>\n",
       "      <th>Category</th>\n",
       "    </tr>\n",
       "  </thead>\n",
       "  <tbody>\n",
       "    <tr>\n",
       "      <th>0</th>\n",
       "      <td>176558</td>\n",
       "      <td>USB-C Charging Cable</td>\n",
       "      <td>2</td>\n",
       "      <td>11.95</td>\n",
       "      <td>2019-04-19 08:46:00</td>\n",
       "      <td>Dallas</td>\n",
       "      <td>Texas</td>\n",
       "      <td>Charging Cable</td>\n",
       "    </tr>\n",
       "    <tr>\n",
       "      <th>2</th>\n",
       "      <td>176559</td>\n",
       "      <td>Bose SoundSport Headphones</td>\n",
       "      <td>1</td>\n",
       "      <td>99.99</td>\n",
       "      <td>2019-04-07 22:30:00</td>\n",
       "      <td>Boston</td>\n",
       "      <td>Massachusetts</td>\n",
       "      <td>Headphones</td>\n",
       "    </tr>\n",
       "    <tr>\n",
       "      <th>3</th>\n",
       "      <td>176560</td>\n",
       "      <td>Google Phone</td>\n",
       "      <td>1</td>\n",
       "      <td>600.00</td>\n",
       "      <td>2019-04-12 14:38:00</td>\n",
       "      <td>Los Angeles</td>\n",
       "      <td>California</td>\n",
       "      <td>Phone</td>\n",
       "    </tr>\n",
       "    <tr>\n",
       "      <th>4</th>\n",
       "      <td>176560</td>\n",
       "      <td>Wired Headphones</td>\n",
       "      <td>1</td>\n",
       "      <td>11.99</td>\n",
       "      <td>2019-04-12 14:38:00</td>\n",
       "      <td>Los Angeles</td>\n",
       "      <td>California</td>\n",
       "      <td>Headphones</td>\n",
       "    </tr>\n",
       "    <tr>\n",
       "      <th>5</th>\n",
       "      <td>176561</td>\n",
       "      <td>Wired Headphones</td>\n",
       "      <td>1</td>\n",
       "      <td>11.99</td>\n",
       "      <td>2019-04-30 09:27:00</td>\n",
       "      <td>Los Angeles</td>\n",
       "      <td>California</td>\n",
       "      <td>Headphones</td>\n",
       "    </tr>\n",
       "  </tbody>\n",
       "</table>\n",
       "</div>"
      ],
      "text/plain": [
       "   Order ID                     Product  Quantity Ordered  Price Each  \\\n",
       "0    176558        USB-C Charging Cable                 2       11.95   \n",
       "2    176559  Bose SoundSport Headphones                 1       99.99   \n",
       "3    176560                Google Phone                 1      600.00   \n",
       "4    176560            Wired Headphones                 1       11.99   \n",
       "5    176561            Wired Headphones                 1       11.99   \n",
       "\n",
       "           Order Date          City          State        Category  \n",
       "0 2019-04-19 08:46:00        Dallas          Texas  Charging Cable  \n",
       "2 2019-04-07 22:30:00        Boston  Massachusetts      Headphones  \n",
       "3 2019-04-12 14:38:00   Los Angeles     California           Phone  \n",
       "4 2019-04-12 14:38:00   Los Angeles     California      Headphones  \n",
       "5 2019-04-30 09:27:00   Los Angeles     California      Headphones  "
      ]
     },
     "execution_count": 28,
     "metadata": {},
     "output_type": "execute_result"
    }
   ],
   "source": [
    "Final_data.head()"
   ]
  },
  {
   "cell_type": "code",
   "execution_count": 29,
   "id": "39157734",
   "metadata": {},
   "outputs": [
    {
     "data": {
      "text/plain": [
       "Order ID            0\n",
       "Product             0\n",
       "Quantity Ordered    0\n",
       "Price Each          0\n",
       "Order Date          0\n",
       "City                0\n",
       "State               0\n",
       "Category            0\n",
       "dtype: int64"
      ]
     },
     "execution_count": 29,
     "metadata": {},
     "output_type": "execute_result"
    }
   ],
   "source": [
    "Final_data.isnull().sum()"
   ]
  },
  {
   "cell_type": "markdown",
   "id": "b33ecf85",
   "metadata": {},
   "source": [
    "### Now there are no null values, column datatype is correct and also derived neccessary columns. So we will create a new csv file with this dataframe."
   ]
  },
  {
   "cell_type": "code",
   "execution_count": 30,
   "id": "d33e0c83",
   "metadata": {},
   "outputs": [],
   "source": [
    "Final_data.to_csv('AllYearSales.csv',index=False)"
   ]
  },
  {
   "cell_type": "code",
   "execution_count": null,
   "id": "d9b84394",
   "metadata": {},
   "outputs": [],
   "source": []
  },
  {
   "cell_type": "code",
   "execution_count": null,
   "id": "efd065d5",
   "metadata": {},
   "outputs": [],
   "source": []
  }
 ],
 "metadata": {
  "kernelspec": {
   "display_name": "Python 3 (ipykernel)",
   "language": "python",
   "name": "python3"
  },
  "language_info": {
   "codemirror_mode": {
    "name": "ipython",
    "version": 3
   },
   "file_extension": ".py",
   "mimetype": "text/x-python",
   "name": "python",
   "nbconvert_exporter": "python",
   "pygments_lexer": "ipython3",
   "version": "3.8.11"
  }
 },
 "nbformat": 4,
 "nbformat_minor": 5
}
